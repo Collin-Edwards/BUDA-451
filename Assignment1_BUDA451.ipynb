{
  "cells": [
    {
      "cell_type": "markdown",
      "metadata": {},
      "source": [
        "---\n",
        "title: \"Assignment 1 BUDA 451\"\n",
        "author: \"Collin Edwards\"\n",
        "date: \"today\"\n",
        "format: pdf\n",
        "editor: visual\n",
        "jupyter: python3\n",
        "\n",
        "---\n",
        "\n",
        "# Data Structures\n",
        "## Question 1a\n",
        "\n",
        "\n",
        "#### Given list s = “Hamburg”, how do you index/slice “mbur” from list s?\n",
        "\n",
        "In order to slice the character is at mburg out of hamburg, you have to first note where the charcters are.^[Since python like many programming languages start counting from 0 you have to account for that when slicing a matrix of anything.] since `m` is at the 2nd position,`b` is in position 3,`u` is in position 4 and `r` is at position 5. "
      ]
    },
    {
      "cell_type": "code",
      "metadata": {},
      "source": [
        "s = \"hamburg\"\n",
        "substring = s[2:6]\n",
        "print(substring)  # Output: \"mbur\""
      ],
      "execution_count": null,
      "outputs": []
    },
    {
      "cell_type": "markdown",
      "metadata": {},
      "source": [
        "## Question 1b\n",
        "\n",
        "#### What the major differences between two Python data structures: **list** and **set**. Give a or two application examples where we might need to convert a list to a set.\n",
        "\n",
        "List\n",
        ": *Maintains the order* if elements and allows you to index via normal means. Can also contain duplicate elements.\n",
        "\n",
        "Set\n",
        ": *Unordered* collection of elements. Does *not* support indexing or slicing since the order is not guaranteed. Automatically removes the duplicate elements since each one is unique\n",
        "\n",
        "##### Application examples for converting a list to a set\n",
        "1. **Removing Duplicates** For instance if you have a bunch of email addresses in your list and you want to include only unique entries\n",
        "2. **Membership Testing** If you want to frequently check whether an element exists within a collection, if you convert the list to a set this can reduce run time and improve performance\n",
        "   \n",
        "   \n",
        "## Question 1c\n",
        "\n",
        "#### If you are working with a toy dataset as show in following \n",
        "| **student_id** | **gpa** |\n",
        "|:-----|---------|\n",
        "|  001 |    4.6   |    4.6  |\n",
        "|  002 |   4.2   |   4.2  |\n",
        "|  003 |     4.0   |     4.0  |\n",
        "#### and you want to use a `dictionary` to store the data for further processing. Write Python code to demonstrate how to create such a `dictionary` in Python, and to iterate over the `key`: `value` pairs."
      ]
    },
    {
      "cell_type": "code",
      "metadata": {},
      "source": [
        "''' creating the dictionary. essentially storing the values in variables and \n",
        "associating the variables with the other variable'''\n",
        "gpa_dict = {\n",
        "    \"001\": 4.6,\n",
        "    \"002\": 4.2,\n",
        "    \"003\": 4.0\n",
        "}\n",
        "\n",
        "# iterating over the key-value pairs with a for statement\n",
        "for student_id, gpa in gpa_dict.items():\n",
        "    print(f\"Student ID: {student_id}, GPA: {gpa}\") \n",
        "    '''the .items() method used in the line above will return a view object and \n",
        "    a list of the key-value tuple pairs. Tuples are also immutable compared to \n",
        "    lists'''"
      ],
      "execution_count": null,
      "outputs": []
    },
    {
      "cell_type": "markdown",
      "metadata": {},
      "source": [
        "**This code will print each of the student ID's along with their GPA**\n",
        "\n",
        "# Function and library\n",
        "\n",
        "## Question 2a Write a Python function to calculate the Euclidean distance between two data points `x` and `y`.\n",
        "The Euclidean distance between two data points 𝐱 = [𝑥1, 𝑥2, … , 𝑥𝑛] and 𝐲 = [𝑦1, 𝑦2, … , 𝑦𝑛] is\n",
        "defined as \n",
        " **Euclidean Distance Formula**\n",
        "\n",
        "The Euclidean distance between two data points  \n",
        "$\\mathbf{x} = [x_1, x_2, \\dots, x_n]$  \n",
        "and  \n",
        "$\\mathbf{y} = [y_1, y_2, \\dots, y_n]$  \n",
        "is defined as:\n",
        "\n",
        "$$\n",
        "d(\\mathbf{x}, \\mathbf{y}) = \\sqrt{\\sum_{k=1}^{n} (x_k - y_k)^2}\n",
        "$$"
      ]
    },
    {
      "cell_type": "code",
      "metadata": {},
      "source": [
        "import math # importing for math operations\n",
        "\n",
        "def euc_dist(x, y):\n",
        "    # ensuring that the two lists have the same length\n",
        "    if len(x) != len(y):\n",
        "        raise ValueError(\"The data points must have the same dimension.\")\n",
        "    \n",
        "    sum_squared = 0\n",
        "    for xi, yi in zip(x, y):#using for to iterate over paired elements\n",
        "        sum_squared += math.pow(xi - yi, 2)\n",
        "    dist = math.sqrt(sum_squared)#calculates square root to get euclidean distance\n",
        "    return dist\n",
        "\n",
        "# given data points from the question\n",
        "x = [1, 2, 4, -4]\n",
        "y = [10.5, 12.1, 13.2, 105.8]\n",
        "\n",
        "# Calculate the Euclidean distance\n",
        "distance = euc_dist(x, y)\n",
        "print(\"Euclidean distance:\", distance)"
      ],
      "execution_count": null,
      "outputs": []
    },
    {
      "cell_type": "markdown",
      "metadata": {},
      "source": [
        "# Numpy and Pandas\n",
        "\n",
        "## Question 3a create a 10x10 array with random numbers, and name it as `np_data`. Print out the array."
      ]
    },
    {
      "cell_type": "code",
      "metadata": {},
      "source": [
        "import numpy as np\n",
        "import pandas as pd\n",
        "\n",
        "'''creating a 10x10 array with random numbers and print it. Note: np.random.rand \n",
        "generates numbers in [0, 1)'''\n",
        "\n",
        "np_data = np.random.rand(10, 10)\n",
        "print(\"np_data:\")\n",
        "print(np_data)"
      ],
      "execution_count": null,
      "outputs": []
    },
    {
      "cell_type": "markdown",
      "metadata": {},
      "source": [
        "## Question 3a Part II slice the sub-array of 6th-10th rows, 1st-5th columns of `np_data`, and name it as `subdata` (`subdata` should be a 5x5 array). Print out the sub-array."
      ]
    },
    {
      "cell_type": "code",
      "metadata": {},
      "source": [
        "#    Since Python uses zero-based indexing as mentioned earlier:\n",
        "#    - 6th to 10th rows correspond to indices 5 to 9.\n",
        "#    - 1st to 5th columns correspond to indices 0 to 4.\n",
        "subdata = np_data[5:10, 0:5]\n",
        "print(\"\\nSub-array (6th-10th rows, 1st-5th columns):\")\n",
        "print(subdata)"
      ],
      "execution_count": null,
      "outputs": []
    },
    {
      "cell_type": "markdown",
      "metadata": {},
      "source": [
        "## Question 3b create a `Pandas DataFrame` from `np_data` above, and name it as `pd_data`. Print out `pd_data`. Then slice the sub-DataFrame of 1st-5th rows, 6th-10th columns of `pd_data`, and name it as `subdf` (`subdf` should be a 5x5 dataframe). Print out `subdf`."
      ]
    },
    {
      "cell_type": "code",
      "metadata": {},
      "source": [
        "# Creating a df from np_data and print it.\n",
        "pd_data = pd.DataFrame(np_data)\n",
        "print(\"\\npd_data DataFrame:\")\n",
        "print(pd_data)\n",
        "pd_data = pd.DataFrame(np_data)\n",
        "subdf = pd_data.iloc[0:5, 5:10]\n",
        "print(\"\\nSub-DataFrame (1st-5th rows, 6th-10th columns):\")\n",
        "print(subdf)"
      ],
      "execution_count": null,
      "outputs": []
    },
    {
      "cell_type": "markdown",
      "metadata": {},
      "source": [
        "I use *iloc* because I wanted to select rows and columns based on their order in the df rather than their labels. It's like slicing a list. e.g df.iloc[0:5] gives you the first 5 rows. df.iloc[:, 5:10] gives you the columns in positions 6 through 10.\n",
        "\n",
        "# Tabular data\n",
        "\n",
        "## Question 4 You are given the UCI Parkinsons Data Set:This dataset is composed of a range ofbiomedical voice measurements from 31 people, 23 with Parkinson's disease (PD). Each column in the table is a particular voice measure, and each row corresponds one of 195 voice recording from these individuals (\"name\" column). The main aim of the data is to discriminate healthy people from those with PD, according to \"status\" column which is set to 0 for healthy and 1 for PD. The data is in ASCII CSV format. You may find more introduction about the data here: https://archive.ics.uci.edu/ml/datasets/Parkinsons"
      ]
    },
    {
      "cell_type": "code",
      "metadata": {},
      "source": [
        "df = pd.read_csv(\"~/Downloads/parkinsons(2).data\")\n",
        "print(df.head)\n",
        "# (b) Display summary statistics for all attributes.\n",
        "print(\"Summary statistics for all attributes:\")\n",
        "print(df.describe())\n",
        "\n",
        "# (c) Plot histograms for the attributes: PPE, DFA, MDVP:Fo(Hz)\n",
        "import matplotlib.pyplot as plt\n",
        "\n",
        "attributes = ['PPE', 'DFA', 'MDVP:Fo(Hz)']\n",
        "\n",
        "for attr in attributes:\n",
        "    plt.figure(figsize=(6, 4))\n",
        "    plt.hist(df[attr].dropna(), bins=20, edgecolor='black')\n",
        "    plt.title(f'Histogram of {attr}')\n",
        "    plt.xlabel(attr)\n",
        "    plt.ylabel('Frequency')\n",
        "    plt.show()\n",
        "\n",
        "# (d) Plot two histograms for each attribute (one for status=1 and one for status=0)\n",
        "for attr in attributes:\n",
        "    # Filter the data for each status\n",
        "    df_status1 = df[df['status'] == 1]\n",
        "    df_status0 = df[df['status'] == 0]\n",
        "    \n",
        "    plt.figure(figsize=(12, 4))\n",
        "    \n",
        "    # Histogram for instances with status = 1 (Parkinson's)\n",
        "    plt.subplot(1, 2, 1)\n",
        "    plt.hist(df_status1[attr].dropna(), bins=20, color='tomato', edgecolor='black')\n",
        "    plt.title(f'{attr} (Status = 1)')\n",
        "    plt.xlabel(attr)\n",
        "    plt.ylabel('Frequency')\n",
        "    \n",
        "    # Histogram for instances with status = 0 (Healthy)\n",
        "    plt.subplot(1, 2, 2)\n",
        "    plt.hist(df_status0[attr].dropna(), bins=20, color='skyblue', edgecolor='black')\n",
        "    plt.title(f'{attr} (Status = 0)')\n",
        "    plt.xlabel(attr)\n",
        "    plt.ylabel('Frequency')\n",
        "    \n",
        "    plt.tight_layout()\n",
        "    plt.show()"
      ],
      "execution_count": null,
      "outputs": []
    },
    {
      "cell_type": "markdown",
      "metadata": {},
      "source": [
        "This code first prints out a summary of all the data so you can see basic stats like the average and spread for each column. Then, it creates simple bar graphs (histograms) for three specific columns (PPE, DFA, and MDVP:Fo(Hz)) to show how the data values are distributed. Finally, it splits the data into two groups based on whether the person has Parkinson’s (status = 1) or is healthy (status = 0) and makes separate histograms for each group. This makes it easier to compare how the numbers differ between the two groups.\n"
      ]
    }
  ],
  "metadata": {
    "kernelspec": {
      "name": "python3",
      "language": "python",
      "display_name": "Python 3 (ipykernel)",
      "path": "/Users/collinedwards/.virtualenvs/r-reticulate/share/jupyter/kernels/python3"
    }
  },
  "nbformat": 4,
  "nbformat_minor": 4
}